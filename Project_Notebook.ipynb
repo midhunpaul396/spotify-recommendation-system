{
 "cells": [
  {
   "cell_type": "markdown",
   "metadata": {
    "id": "c3eM37z_Ch7_"
   },
   "source": [
    "Mounting Google Drive for dataset"
   ]
  },
  {
   "cell_type": "code",
   "execution_count": null,
   "metadata": {
    "colab": {
     "base_uri": "https://localhost:8080/"
    },
    "id": "QQ8R9FAoCjtz",
    "outputId": "3449839b-67c0-41de-a035-c6b4e9724cc0"
   },
   "outputs": [
    {
     "name": "stdout",
     "output_type": "stream",
     "text": [
      "Mounted at /content/drive\n"
     ]
    }
   ],
   "source": [
    "from google.colab import drive\n",
    "drive.mount('/content/drive')"
   ]
  },
  {
   "cell_type": "markdown",
   "metadata": {
    "id": "SvJtnxafC0wk"
   },
   "source": [
    "Installing pyspark and importing modules"
   ]
  },
  {
   "cell_type": "code",
   "execution_count": null,
   "metadata": {
    "colab": {
     "base_uri": "https://localhost:8080/"
    },
    "id": "ogDBZRPAC1JL",
    "outputId": "cd15e14b-0242-478f-fb46-7399ab0238d7"
   },
   "outputs": [
    {
     "name": "stdout",
     "output_type": "stream",
     "text": [
      "Collecting pyspark\n",
      "  Downloading pyspark-3.4.1.tar.gz (310.8 MB)\n",
      "\u001b[2K     \u001b[90m━━━━━━━━━━━━━━━━━━━━━━━━━━━━━━━━━━━━━━━\u001b[0m \u001b[32m310.8/310.8 MB\u001b[0m \u001b[31m4.3 MB/s\u001b[0m eta \u001b[36m0:00:00\u001b[0m\n",
      "\u001b[?25h  Preparing metadata (setup.py) ... \u001b[?25l\u001b[?25hdone\n",
      "Requirement already satisfied: py4j==0.10.9.7 in /usr/local/lib/python3.10/dist-packages (from pyspark) (0.10.9.7)\n",
      "Building wheels for collected packages: pyspark\n",
      "  Building wheel for pyspark (setup.py) ... \u001b[?25l\u001b[?25hdone\n",
      "  Created wheel for pyspark: filename=pyspark-3.4.1-py2.py3-none-any.whl size=311285397 sha256=08a134825558327722d47d399e4d85477a2a1605305b69ffd1b3d3522d3c02d9\n",
      "  Stored in directory: /root/.cache/pip/wheels/0d/77/a3/ff2f74cc9ab41f8f594dabf0579c2a7c6de920d584206e0834\n",
      "Successfully built pyspark\n",
      "Installing collected packages: pyspark\n",
      "Successfully installed pyspark-3.4.1\n"
     ]
    }
   ],
   "source": [
    "!pip install pyspark"
   ]
  },
  {
   "cell_type": "code",
   "execution_count": null,
   "metadata": {
    "id": "Iga9aL7YafOp"
   },
   "outputs": [],
   "source": [
    "from pyspark.sql import SparkSession\n",
    "from pyspark.sql.functions import count, desc , col, max, struct\n",
    "import matplotlib.pyplot as plts\n",
    "from pyspark.ml.feature import  StringIndexer\n",
    "from pyspark.ml import Pipeline\n",
    "from pyspark.ml.recommendation import ALS\n",
    "from pyspark.ml.tuning import TrainValidationSplit, ParamGridBuilder\n"
   ]
  },
  {
   "cell_type": "code",
   "execution_count": null,
   "metadata": {
    "id": "COR6oghQbPfA"
   },
   "outputs": [],
   "source": [
    "spark = SparkSession.builder.appName('MusicRec').getOrCreate()"
   ]
  },
  {
   "cell_type": "code",
   "execution_count": null,
   "metadata": {
    "id": "Sj6y0xYebg0i"
   },
   "outputs": [],
   "source": [
    "listening_csv_path = '/content/drive/My Drive/dataset/listenings.csv'\n",
    "listening_data_frame = spark.read.format('csv').option('inferSchema', True).option('header', True).load(listening_csv_path)"
   ]
  },
  {
   "cell_type": "code",
   "execution_count": null,
   "metadata": {
    "colab": {
     "base_uri": "https://localhost:8080/"
    },
    "id": "OuD9TKPscHXj",
    "outputId": "725bb995-b556-4d6a-9482-121ecad7de2e"
   },
   "outputs": [
    {
     "name": "stdout",
     "output_type": "stream",
     "text": [
      "+-----------+-------------+--------------------+---------------+--------------------+\n",
      "|    user_id|         date|               track|         artist|               album|\n",
      "+-----------+-------------+--------------------+---------------+--------------------+\n",
      "|000Silenced|1299680100000|           Price Tag|       Jessie J|         Who You Are|\n",
      "|000Silenced|1299679920000|Price Tag (Acoust...|       Jessie J|           Price Tag|\n",
      "|000Silenced|1299679440000|Be Mine! (Ballad ...|          Robyn|            Be Mine!|\n",
      "|000Silenced|1299679200000|            Acapella|          Kelis|            Acapella|\n",
      "|000Silenced|1299675660000|   I'm Not Invisible|      The Tease|   I'm Not Invisible|\n",
      "|000Silenced|1297511400000|Bounce (Feat NORE...|       MSTRKRFT|         Fist of God|\n",
      "|000Silenced|1294498440000|Don't Stop The Mu...|        Rihanna|Addicted 2 Bassli...|\n",
      "|000Silenced|1292438340000|               ObZen|      Meshuggah|               ObZen|\n",
      "|000Silenced|1292437740000|   Yama's Messengers|         Gojira|The Way of All Flesh|\n",
      "|000Silenced|1292436360000|On the Brink of E...|   Napalm Death|Time Waits For No...|\n",
      "|000Silenced|1292436360000|On the Brink of E...|   Napalm Death|Time Waits For No...|\n",
      "|000Silenced|1292435940000|        In Deference|   Napalm Death|      Smear Campaign|\n",
      "|000Silenced|1292434920000|      Post(?)organic|    Decapitated|Organic Hallucinosis|\n",
      "|000Silenced|1292434560000|        Mind Feeders|   Dom & Roland| No Strings Attached|\n",
      "|000Silenced|1292434320000|Necrosadistic War...|Cannibal Corpse|                Kill|\n",
      "|000Silenced|1292365560000|     Dance All Night|   Dom & Roland|          Chronology|\n",
      "|000Silenced|1292365260000|          Late Night|   Dom & Roland|          Chronology|\n",
      "|000Silenced|1292365020000|          Freak Seen|   Dom & Roland|          Chronology|\n",
      "|000Silenced|1292364720000|Paradrenasite (Hi...|   Dom & Roland|          Chronology|\n",
      "|000Silenced|1292364300000|               Rhino|   Dom & Roland|          Chronology|\n",
      "+-----------+-------------+--------------------+---------------+--------------------+\n",
      "only showing top 20 rows\n",
      "\n"
     ]
    }
   ],
   "source": [
    "listening_data_frame.show()"
   ]
  },
  {
   "cell_type": "markdown",
   "metadata": {
    "id": "zLHiHHoPdaxG"
   },
   "source": [
    "Dropping date column as it is not required"
   ]
  },
  {
   "cell_type": "code",
   "execution_count": null,
   "metadata": {
    "id": "BCDMojtlcQMd"
   },
   "outputs": [],
   "source": [
    "listening_data_frame = listening_data_frame.drop('date')"
   ]
  },
  {
   "cell_type": "code",
   "execution_count": null,
   "metadata": {
    "id": "EhHHci-lcaQY"
   },
   "outputs": [],
   "source": [
    "listening_data_frame = listening_data_frame.na.drop()"
   ]
  },
  {
   "cell_type": "code",
   "execution_count": null,
   "metadata": {
    "colab": {
     "base_uri": "https://localhost:8080/"
    },
    "id": "GIulscm-cehO",
    "outputId": "d1be7315-5082-4916-988c-5d8900b89f21"
   },
   "outputs": [
    {
     "name": "stdout",
     "output_type": "stream",
     "text": [
      "+-----------+--------------------+---------------+--------------------+\n",
      "|    user_id|               track|         artist|               album|\n",
      "+-----------+--------------------+---------------+--------------------+\n",
      "|000Silenced|           Price Tag|       Jessie J|         Who You Are|\n",
      "|000Silenced|Price Tag (Acoust...|       Jessie J|           Price Tag|\n",
      "|000Silenced|Be Mine! (Ballad ...|          Robyn|            Be Mine!|\n",
      "|000Silenced|            Acapella|          Kelis|            Acapella|\n",
      "|000Silenced|   I'm Not Invisible|      The Tease|   I'm Not Invisible|\n",
      "|000Silenced|Bounce (Feat NORE...|       MSTRKRFT|         Fist of God|\n",
      "|000Silenced|Don't Stop The Mu...|        Rihanna|Addicted 2 Bassli...|\n",
      "|000Silenced|               ObZen|      Meshuggah|               ObZen|\n",
      "|000Silenced|   Yama's Messengers|         Gojira|The Way of All Flesh|\n",
      "|000Silenced|On the Brink of E...|   Napalm Death|Time Waits For No...|\n",
      "|000Silenced|On the Brink of E...|   Napalm Death|Time Waits For No...|\n",
      "|000Silenced|        In Deference|   Napalm Death|      Smear Campaign|\n",
      "|000Silenced|      Post(?)organic|    Decapitated|Organic Hallucinosis|\n",
      "|000Silenced|        Mind Feeders|   Dom & Roland| No Strings Attached|\n",
      "|000Silenced|Necrosadistic War...|Cannibal Corpse|                Kill|\n",
      "|000Silenced|     Dance All Night|   Dom & Roland|          Chronology|\n",
      "|000Silenced|          Late Night|   Dom & Roland|          Chronology|\n",
      "|000Silenced|          Freak Seen|   Dom & Roland|          Chronology|\n",
      "|000Silenced|Paradrenasite (Hi...|   Dom & Roland|          Chronology|\n",
      "|000Silenced|               Rhino|   Dom & Roland|          Chronology|\n",
      "+-----------+--------------------+---------------+--------------------+\n",
      "only showing top 20 rows\n",
      "\n"
     ]
    }
   ],
   "source": [
    "listening_data_frame.show()"
   ]
  },
  {
   "cell_type": "code",
   "execution_count": null,
   "metadata": {
    "colab": {
     "base_uri": "https://localhost:8080/"
    },
    "id": "RbubpcdachHc",
    "outputId": "ef82c82a-9fd4-41dd-9f31-f52c163dfadb"
   },
   "outputs": [
    {
     "name": "stdout",
     "output_type": "stream",
     "text": [
      "root\n",
      " |-- user_id: string (nullable = true)\n",
      " |-- track: string (nullable = true)\n",
      " |-- artist: string (nullable = true)\n",
      " |-- album: string (nullable = true)\n",
      "\n"
     ]
    }
   ],
   "source": [
    "listening_data_frame.printSchema()"
   ]
  },
  {
   "cell_type": "code",
   "execution_count": null,
   "metadata": {
    "colab": {
     "base_uri": "https://localhost:8080/"
    },
    "id": "xjyDchIEmkUL",
    "outputId": "43cc2613-a0f2-4bd1-b4f6-f922370a0d93"
   },
   "outputs": [
    {
     "name": "stdout",
     "output_type": "stream",
     "text": [
      "13758905 4\n"
     ]
    }
   ],
   "source": [
    "rows = listening_data_frame.count()\n",
    "cols = len(listening_data_frame.columns)\n",
    "print(rows,cols)"
   ]
  },
  {
   "cell_type": "markdown",
   "metadata": {
    "id": "5Vsgo8-jeCBc"
   },
   "source": [
    "**Top** 10 Tracks"
   ]
  },
  {
   "cell_type": "code",
   "execution_count": null,
   "metadata": {
    "colab": {
     "base_uri": "https://localhost:8080/"
    },
    "id": "lSe6GPz7eEia",
    "outputId": "bc546f89-a7ab-47a4-db68-2cdf75b54f56"
   },
   "outputs": [
    {
     "name": "stdout",
     "output_type": "stream",
     "text": [
      "+--------------+----------------+-----+\n",
      "|        artist|           track|count|\n",
      "+--------------+----------------+-----+\n",
      "| Justin Bieber|           Sorry| 3381|\n",
      "|Arctic Monkeys|Do I Wanna Know?| 2865|\n",
      "|      Bon Iver|     Skinny Love| 2836|\n",
      "|          Zayn|      PILLOWTALK| 2701|\n",
      "|   The Killers|   Mr Brightside| 2690|\n",
      "|       Rihanna|            Work| 2646|\n",
      "|      Bastille|         Pompeii| 2606|\n",
      "|Mumford & Sons| Little Lion Man| 2520|\n",
      "|Mumford & Sons|        The Cave| 2485|\n",
      "| Justin Bieber|   Love Yourself| 2481|\n",
      "+--------------+----------------+-----+\n",
      "\n"
     ]
    }
   ],
   "source": [
    "query1 = listening_data_frame.select('artist', 'track').groupby('artist', 'track').agg(count('*').alias('count')).orderBy(desc('count')).limit(10)\n",
    "query1.show()"
   ]
  },
  {
   "cell_type": "markdown",
   "metadata": {
    "id": "SXknXOftdtoD"
   },
   "source": [
    "Top 10 fans of Eminem"
   ]
  },
  {
   "cell_type": "code",
   "execution_count": null,
   "metadata": {
    "colab": {
     "base_uri": "https://localhost:8080/"
    },
    "id": "ZoMuI3lhdK8H",
    "outputId": "bf9b8604-95ee-46eb-e178-f1aa9ad71243"
   },
   "outputs": [
    {
     "name": "stdout",
     "output_type": "stream",
     "text": [
      "+-------------+-----+\n",
      "|      user_id|count|\n",
      "+-------------+-----+\n",
      "|   joeyjoefro|  188|\n",
      "|DanceHallDays|  176|\n",
      "| andytrickett|  164|\n",
      "|    SlimNeddy|  162|\n",
      "| saralawtonxX|  147|\n",
      "|     megalolz|  114|\n",
      "|Melbourne1992|  110|\n",
      "|   flintshine|  108|\n",
      "|        jjk89|  106|\n",
      "|      craig92|  104|\n",
      "+-------------+-----+\n",
      "\n"
     ]
    }
   ],
   "source": [
    "query2 = listening_data_frame.select('user_id').filter(listening_data_frame.artist == 'Eminem').groupby('user_id').agg(count('user_id').alias('count')).orderBy(desc('count')).limit(10)\n",
    "query2.show()"
   ]
  },
  {
   "cell_type": "markdown",
   "metadata": {
    "id": "_81K-DATeU3_"
   },
   "source": [
    "Top artists and albums based on the number of times they have been listened to"
   ]
  },
  {
   "cell_type": "code",
   "execution_count": null,
   "metadata": {
    "colab": {
     "base_uri": "https://localhost:8080/"
    },
    "id": "cpmvTWUmdS4p",
    "outputId": "a5c61236-41fd-475b-f0c2-52909737bc10"
   },
   "outputs": [
    {
     "name": "stdout",
     "output_type": "stream",
     "text": [
      "+--------------------+--------------------+-----+\n",
      "|              artist|               album|count|\n",
      "+--------------------+--------------------+-----+\n",
      "|          Kanye West|   The Life Of Pablo|22310|\n",
      "|              The xx|                  xx|14195|\n",
      "|      Arctic Monkeys|                  AM|14090|\n",
      "|               alt-J|     An Awesome Wave|13635|\n",
      "|      Mumford & Sons|        Sigh No More|13543|\n",
      "|      Arctic Monkeys|Whatever People S...|12731|\n",
      "|            Bon Iver|            For Emma|11994|\n",
      "|              Grimes|          Art Angels|11655|\n",
      "|Florence + the Ma...|               Lungs|11362|\n",
      "|               Adele|                  21|11215|\n",
      "+--------------------+--------------------+-----+\n",
      "\n"
     ]
    }
   ],
   "source": [
    "query3 = listening_data_frame.select('artist', 'album').groupby('artist', 'album').agg(count('*').alias('count')).orderBy(desc('count')).limit(10)\n",
    "query3.show()"
   ]
  },
  {
   "cell_type": "markdown",
   "metadata": {
    "id": "0xsDmQQDfXTp"
   },
   "source": [
    "Importing and merging genre.csv"
   ]
  },
  {
   "cell_type": "code",
   "execution_count": null,
   "metadata": {
    "colab": {
     "base_uri": "https://localhost:8080/"
    },
    "id": "VfwDEiQVfa7b",
    "outputId": "4da33238-b9cf-42a2-b872-006aaa08db06"
   },
   "outputs": [
    {
     "name": "stdout",
     "output_type": "stream",
     "text": [
      "+------------+-----------+--------------------+--------------------+--------------------+\n",
      "|      artist|    user_id|               track|               album|               genre|\n",
      "+------------+-----------+--------------------+--------------------+--------------------+\n",
      "|    Jessie J|000Silenced|           Price Tag|         Who You Are| Ariana Grande & ...|\n",
      "|    Jessie J|000Silenced|           Price Tag|         Who You Are| Jhene Aiko & Rixton|\n",
      "|    Jessie J|000Silenced|           Price Tag|         Who You Are| Nicki Minaj & Ar...|\n",
      "|    Jessie J|000Silenced|           Price Tag|         Who You Are|                 pop|\n",
      "|    Jessie J|000Silenced|Price Tag (Acoust...|           Price Tag| Ariana Grande & ...|\n",
      "|    Jessie J|000Silenced|Price Tag (Acoust...|           Price Tag| Jhene Aiko & Rixton|\n",
      "|    Jessie J|000Silenced|Price Tag (Acoust...|           Price Tag| Nicki Minaj & Ar...|\n",
      "|    Jessie J|000Silenced|Price Tag (Acoust...|           Price Tag|                 pop|\n",
      "|       Robyn|000Silenced|Be Mine! (Ballad ...|            Be Mine!|                 pop|\n",
      "|       Kelis|000Silenced|            Acapella|            Acapella|                 pop|\n",
      "|   The Tease|000Silenced|   I'm Not Invisible|   I'm Not Invisible|             hip hop|\n",
      "|    MSTRKRFT|000Silenced|Bounce (Feat NORE...|         Fist of God|          electronic|\n",
      "|     Rihanna|000Silenced|Don't Stop The Mu...|Addicted 2 Bassli...|                 SZA|\n",
      "|     Rihanna|000Silenced|Don't Stop The Mu...|Addicted 2 Bassli...| Paul McCartney &...|\n",
      "|     Rihanna|000Silenced|Don't Stop The Mu...|Addicted 2 Bassli...|          Kanye West|\n",
      "|     Rihanna|000Silenced|Don't Stop The Mu...|Addicted 2 Bassli...| Kanye West & Pau...|\n",
      "|     Rihanna|000Silenced|Don't Stop The Mu...|Addicted 2 Bassli...|                 pop|\n",
      "|   Meshuggah|000Silenced|               ObZen|               ObZen|               metal|\n",
      "|      Gojira|000Silenced|   Yama's Messengers|The Way of All Flesh|               metal|\n",
      "|Napalm Death|000Silenced|On the Brink of E...|Time Waits For No...|           grindcore|\n",
      "+------------+-----------+--------------------+--------------------+--------------------+\n",
      "only showing top 20 rows\n",
      "\n"
     ]
    }
   ],
   "source": [
    "genre_csv_path = '/content/drive/My Drive/dataset/genre.csv'\n",
    "genre_data_frame = spark.read.format('csv').option('inferSchema', True).option('header', True).load(genre_csv_path)\n",
    "data = listening_data_frame.join(genre_data_frame, how='inner', on=['artist'])\n",
    "data.show()"
   ]
  },
  {
   "cell_type": "markdown",
   "metadata": {
    "id": "9yF7xPaQf3mT"
   },
   "source": [
    "Top 10 music Genres"
   ]
  },
  {
   "cell_type": "code",
   "execution_count": null,
   "metadata": {
    "colab": {
     "base_uri": "https://localhost:8080/"
    },
    "id": "x7BX1TpZf5fn",
    "outputId": "30e5201d-40bf-490b-b128-812d4f5368bc"
   },
   "outputs": [
    {
     "name": "stdout",
     "output_type": "stream",
     "text": [
      "+----------+-------+\n",
      "|     genre|  count|\n",
      "+----------+-------+\n",
      "|      rock|2691934|\n",
      "|       pop|1544747|\n",
      "|electronic| 551509|\n",
      "|   hip hop| 532984|\n",
      "|      folk| 438174|\n",
      "|indie rock| 431439|\n",
      "|      punk| 380915|\n",
      "|       r&b| 344101|\n",
      "|     metal| 208107|\n",
      "|     indie| 206726|\n",
      "+----------+-------+\n",
      "\n"
     ]
    }
   ],
   "source": [
    "query4 = data.select('genre').groupby('genre').agg(count('genre').alias('count')).orderBy(desc('count')).limit(10)\n",
    "query4.show()"
   ]
  },
  {
   "cell_type": "markdown",
   "metadata": {
    "id": "r14z5QXRgnpA"
   },
   "source": [
    "Top 10 listeners of Metal music"
   ]
  },
  {
   "cell_type": "code",
   "execution_count": null,
   "metadata": {
    "colab": {
     "base_uri": "https://localhost:8080/"
    },
    "id": "WpTlYxwMhXjc",
    "outputId": "d0d60b9e-bca8-4dd4-874c-cd8852a1400d"
   },
   "outputs": [
    {
     "name": "stdout",
     "output_type": "stream",
     "text": [
      "+---------------+-----+\n",
      "|        user_id|count|\n",
      "+---------------+-----+\n",
      "|        01Green|  496|\n",
      "|      momousagi|  400|\n",
      "|          mrpsb|  400|\n",
      "|   BlueKnockOut|  378|\n",
      "|    musicboy80s|  376|\n",
      "|  incultojurgis|  374|\n",
      "| ElektricOrchid|  370|\n",
      "|foreign_fanatic|  350|\n",
      "|   Kevin_Soutar|  346|\n",
      "|  landrover2171|  301|\n",
      "+---------------+-----+\n",
      "\n"
     ]
    }
   ],
   "source": [
    "query5 = data.select('user_id').where(data.genre == 'pop').groupby('user_id').agg(count('user_id').alias('count')).orderBy(desc('count')).limit(10)\n",
    "query5.show()"
   ]
  },
  {
   "cell_type": "markdown",
   "metadata": {
    "id": "7wNpkPlyhkdT"
   },
   "source": [
    "Graph showing number of artists for each Genre"
   ]
  },
  {
   "cell_type": "code",
   "execution_count": null,
   "metadata": {
    "colab": {
     "base_uri": "https://localhost:8080/",
     "height": 615
    },
    "id": "g_qIhdakiJBB",
    "outputId": "9a4afe0d-ce8e-4511-adb6-ab19aa936d5b"
   },
   "outputs": [
    {
     "data": {
      "text/plain": [
       "Text(0.5, 1.0, 'Genre Distribution')"
      ]
     },
     "execution_count": 40,
     "metadata": {},
     "output_type": "execute_result"
    },
    {
     "data": {
      "image/png": "[encoded data removed]",
      "text/plain": [
       "<Figure size 700x700 with 1 Axes>"
      ]
     },
     "metadata": {},
     "output_type": "display_data"
    }
   ],
   "source": [
    "query6 = genre_data_frame.select('genre').where((col('genre')=='pop') | (col('genre')=='rock') | (col('genre')=='metal') | (col('genre')=='hip hop')).groupby('genre').agg(count('genre').alias('count'))\n",
    "query6_graph = query6.collect()\n",
    "labels = [row['genre'] for row in query6_graph]\n",
    "counts = [row['count'] for row in query6_graph]\n",
    "plts.figure(figsize=(7, 7))\n",
    "plts.pie(counts, labels=labels, autopct='%1.1f%%', startangle=140)\n",
    "plts.title('Genre Distribution')\n"
   ]
  },
  {
   "cell_type": "markdown",
   "metadata": {
    "id": "ZDKUAo3MksMv"
   },
   "source": [
    "Recommendation System"
   ]
  },
  {
   "cell_type": "code",
   "execution_count": null,
   "metadata": {
    "id": "2zeeGlvYk_zh"
   },
   "outputs": [],
   "source": [
    "listening_csv_path_ml = '/content/drive/My Drive/dataset/listenings.csv'\n",
    "listening_ml = spark.read.format('csv').option('inferSchema', True).option('header', True).load(listening_csv_path_ml)\n",
    "listening_ml = listening_ml.drop('date')\n",
    "listening_ml = listening_ml.na.drop()\n"
   ]
  },
  {
   "cell_type": "markdown",
   "metadata": {
    "id": "D3PD8cbMnIXP"
   },
   "source": [
    "Finding out how many times a user listened to a specific song"
   ]
  },
  {
   "cell_type": "code",
   "execution_count": null,
   "metadata": {
    "colab": {
     "base_uri": "https://localhost:8080/"
    },
    "id": "C7i95q9om235",
    "outputId": "3e8abfff-4062-468b-d217-1ac7b266b144"
   },
   "outputs": [
    {
     "name": "stdout",
     "output_type": "stream",
     "text": [
      "+-------+--------------------+-----+\n",
      "|user_id|               track|count|\n",
      "+-------+--------------------+-----+\n",
      "| --Seph| White Winter Hymnal|    3|\n",
      "| --Seph|         The Funeral|    1|\n",
      "| --Seph|Hope There's Someone|    1|\n",
      "| --Seph|         The Painter|    1|\n",
      "| --Seph|          Je te veux|    1|\n",
      "| --Seph|            War Pigs|    1|\n",
      "| --Seph|                 F12|    1|\n",
      "| --Seph|                Team|    1|\n",
      "| --Seph|          Nightmares|    1|\n",
      "| --Seph|               Radio|    1|\n",
      "| --Seph|   All I Want Is You|    1|\n",
      "| --Seph|    Little by Little|    2|\n",
      "| --Seph|        After Nature|    1|\n",
      "| --Seph|In the Hall of th...|    1|\n",
      "| --Seph|   Hey There Delilah|    1|\n",
      "| --Seph|   Let's Call It Off|    1|\n",
      "| --Seph|               Leloo|    1|\n",
      "| --Seph|             Pack Up|    1|\n",
      "| --Seph|           Introitus|    1|\n",
      "| --Seph|        The Leanover|    1|\n",
      "+-------+--------------------+-----+\n",
      "only showing top 20 rows\n",
      "\n"
     ]
    }
   ],
   "source": [
    "listening_ml_agg = listening_ml.select('user_id', 'track').groupby('user_id', 'track').agg(count('*').alias('count')).orderBy('user_id')\n",
    "listening_ml_agg.show()"
   ]
  },
  {
   "cell_type": "markdown",
   "metadata": {
    "id": "A6MD5jutntoX"
   },
   "source": [
    "Total number of rows and columns in the dataframe now"
   ]
  },
  {
   "cell_type": "code",
   "execution_count": null,
   "metadata": {
    "colab": {
     "base_uri": "https://localhost:8080/"
    },
    "id": "sKVRH93fnxDa",
    "outputId": "b64c08ca-f64f-4604-f161-36d12d56d16a"
   },
   "outputs": [
    {
     "name": "stdout",
     "output_type": "stream",
     "text": [
      "9930128 3\n"
     ]
    }
   ],
   "source": [
    "row = listening_ml_agg.count()\n",
    "col = len(listening_ml_agg.columns)\n",
    "print(row,col)"
   ]
  },
  {
   "cell_type": "markdown",
   "metadata": {
    "id": "-HPTvpeSoITq"
   },
   "source": [
    "Limiting the rows for faster processing"
   ]
  },
  {
   "cell_type": "code",
   "execution_count": null,
   "metadata": {
    "id": "RXRMxKI2oOAv"
   },
   "outputs": [],
   "source": [
    "listening_ml_agg = listening_ml_agg.limit(30000)"
   ]
  },
  {
   "cell_type": "markdown",
   "metadata": {
    "id": "C_Y4zYDsrVqB"
   },
   "source": [
    "StringIndexer, pipeline model and transform performed"
   ]
  },
  {
   "cell_type": "code",
   "execution_count": null,
   "metadata": {
    "colab": {
     "base_uri": "https://localhost:8080/"
    },
    "id": "ys6aa_9CrzlP",
    "outputId": "0856e705-a108-4009-c5ed-f0d5b663763a"
   },
   "outputs": [
    {
     "name": "stdout",
     "output_type": "stream",
     "text": [
      "+-------+--------------------+-----+-----------+-------------+\n",
      "|user_id|               track|count|track_index|user_id_index|\n",
      "+-------+--------------------+-----+-----------+-------------+\n",
      "| --Seph|          Nightmares|    1|     2373.0|        104.0|\n",
      "| --Seph|             Starman|    2|      938.0|        104.0|\n",
      "| --Seph|     Gnossienne No 3|    1|    10086.0|        104.0|\n",
      "| --Seph|       Pressure Drop|    1|     2527.0|        104.0|\n",
      "| --Seph|         Agoraphobia|    1|     1128.0|        104.0|\n",
      "| --Seph|Belina (Original ...|    1|     5319.0|        104.0|\n",
      "| --Seph|The Windmills Of ...|    1|    21505.0|        104.0|\n",
      "| --Seph|Hungarian Dance No 5|    1|    11220.0|        104.0|\n",
      "| --Seph|Airplanes [feat H...|    1|     1133.0|        104.0|\n",
      "| --Seph|  California Waiting|    1|      517.0|        104.0|\n",
      "| --Seph|   Needle in the Hay|    1|    15309.0|        104.0|\n",
      "| --Seph|   Summa for Strings|    1|    19826.0|        104.0|\n",
      "| --Seph|     Everyday People|    1|     1658.0|        104.0|\n",
      "| --Seph|Hungarian Rhapsod...|    1|    11221.0|        104.0|\n",
      "| --Seph|L'Encouragement -...|    1|    13034.0|        104.0|\n",
      "| --Seph| Air on the G String|    1|     4177.0|        104.0|\n",
      "| --Seph|Symphony 99 In Eb...|    1|    20071.0|        104.0|\n",
      "| --Seph|        Window Blues|    1|     3270.0|        104.0|\n",
      "| --Seph|       Amazing Grace|    1|     1162.0|        104.0|\n",
      "| --Seph| White Winter Hymnal|    3|       87.0|        104.0|\n",
      "+-------+--------------------+-----+-----------+-------------+\n",
      "only showing top 20 rows\n",
      "\n"
     ]
    }
   ],
   "source": [
    "strindexer = [StringIndexer(inputCol = col, outputCol = col + '_index').fit(listening_ml_agg) for col in list(set(listening_ml_agg.columns)- set(['count']))]\n",
    "indexer = [new_strindexer.setHandleInvalid(\"keep\") for new_strindexer in strindexer]\n",
    "pipeline = Pipeline(stages = indexer)\n",
    "data_ml = pipeline.fit(listening_ml_agg).transform(listening_ml_agg)\n",
    "data_ml.show()\n"
   ]
  },
  {
   "cell_type": "code",
   "execution_count": null,
   "metadata": {
    "colab": {
     "base_uri": "https://localhost:8080/"
    },
    "id": "AwO2V5bQtdOX",
    "outputId": "1a48ba39-29e6-4011-ec04-f9113895130a"
   },
   "outputs": [
    {
     "name": "stdout",
     "output_type": "stream",
     "text": [
      "+-------------+-----------+-----+\n",
      "|user_id_index|track_index|count|\n",
      "+-------------+-----------+-----+\n",
      "|          0.0|    15533.0|    1|\n",
      "|          0.0|     5395.0|    1|\n",
      "|          0.0|    17641.0|    1|\n",
      "|          0.0|    16920.0|    2|\n",
      "|          0.0|    14770.0|    4|\n",
      "|          0.0|      953.0|    1|\n",
      "|          0.0|    24093.0|    1|\n",
      "|          0.0|    17037.0|    1|\n",
      "|          0.0|    21628.0|    1|\n",
      "|          0.0|     2465.0|    1|\n",
      "|          0.0|     8870.0|    1|\n",
      "|          0.0|    16292.0|    1|\n",
      "|          0.0|     4057.0|    2|\n",
      "|          0.0|    20604.0|    1|\n",
      "|          0.0|     8134.0|    1|\n",
      "|          0.0|    16304.0|    1|\n",
      "|          0.0|     3874.0|    1|\n",
      "|          0.0|     4730.0|    1|\n",
      "|          0.0|     4461.0|    4|\n",
      "|          0.0|     9139.0|    1|\n",
      "+-------------+-----------+-----+\n",
      "only showing top 20 rows\n",
      "\n"
     ]
    }
   ],
   "source": [
    "data_ml = data_ml.select('user_id_index', 'track_index', 'count').orderBy('user_id_index')\n",
    "data_ml.show()"
   ]
  },
  {
   "cell_type": "markdown",
   "metadata": {
    "id": "_cW-Ba8CugO1"
   },
   "source": [
    "Train and Test data"
   ]
  },
  {
   "cell_type": "code",
   "execution_count": null,
   "metadata": {
    "id": "jHiI6dNmuiWp"
   },
   "outputs": [],
   "source": [
    "(training, test) = data_ml.randomSplit([0.5,0.5])\n"
   ]
  },
  {
   "cell_type": "code",
   "execution_count": null,
   "metadata": {
    "id": "f-T3gEGZupFs"
   },
   "outputs": [],
   "source": [
    "USERID = \"user_id_index\"\n",
    "TRACK = \"track_index\"\n",
    "COUNT = \"count\"\n",
    "\n",
    "als = ALS(maxIter = 5, regParam = 0.01, userCol = USERID, itemCol = TRACK, ratingCol = COUNT)\n",
    "model = als.fit(training)\n",
    "predictions = model.transform(test)"
   ]
  },
  {
   "cell_type": "markdown",
   "metadata": {
    "id": "YF55dwgdvwuY"
   },
   "source": [
    "View recommendations"
   ]
  },
  {
   "cell_type": "code",
   "execution_count": null,
   "metadata": {
    "colab": {
     "base_uri": "https://localhost:8080/"
    },
    "id": "ax3ijM11vzGe",
    "outputId": "2b599a42-8e59-48b0-f7ba-569970354c9b"
   },
   "outputs": [
    {
     "name": "stdout",
     "output_type": "stream",
     "text": [
      "+-------------+--------------------+\n",
      "|user_id_index|     recommendations|\n",
      "+-------------+--------------------+\n",
      "|            0|[{11973, 14.01359...|\n",
      "|            1|[{715, 13.951651}...|\n",
      "|            2|[{24141, 14.15011...|\n",
      "|            3|[{706, 9.683796},...|\n",
      "|            4|[{1020, 9.103763}...|\n",
      "|            5|[{706, 19.353054}...|\n",
      "|            6|[{11973, 15.02662...|\n",
      "|            7|[{559, 15.254009}...|\n",
      "|            8|[{11973, 11.56950...|\n",
      "|            9|[{15550, 6.996308...|\n",
      "|           10|[{3, 9.049439}, {...|\n",
      "|           11|[{24141, 9.20388}...|\n",
      "|           12|[{798, 7.1905756}...|\n",
      "|           13|[{1020, 10.861052...|\n",
      "|           14|[{22128, 7.077250...|\n",
      "|           15|[{15550, 10.70457...|\n",
      "|           16|[{715, 12.650956}...|\n",
      "|           17|[{12072, 4.672585...|\n",
      "|           18|[{6408, 8.410766}...|\n",
      "|           19|[{15550, 8.281066...|\n",
      "+-------------+--------------------+\n",
      "only showing top 20 rows\n",
      "\n"
     ]
    }
   ],
   "source": [
    "recs = model.recommendForAllUsers(10)\n",
    "recs.show()"
   ]
  },
  {
   "cell_type": "markdown",
   "metadata": {
    "id": "JnPKRnn8wPeh"
   },
   "source": [
    "Lets look at first result"
   ]
  },
  {
   "cell_type": "code",
   "execution_count": null,
   "metadata": {
    "colab": {
     "base_uri": "https://localhost:8080/"
    },
    "id": "HEIimSCpwSJI",
    "outputId": "ac53785b-ab69-4893-f7c9-f64ba60a91a8"
   },
   "outputs": [
    {
     "data": {
      "text/plain": [
       "[Row(user_id_index=0, recommendations=[Row(track_index=11973, rating=14.013596534729004), Row(track_index=706, rating=10.545039176940918), Row(track_index=351, rating=10.498135566711426), Row(track_index=715, rating=10.282034873962402), Row(track_index=559, rating=10.136338233947754), Row(track_index=3082, rating=10.087836265563965), Row(track_index=20590, rating=9.1870698928833), Row(track_index=273, rating=8.86929702758789), Row(track_index=22096, rating=8.505060195922852), Row(track_index=8067, rating=8.011882781982422)])]"
      ]
     },
     "execution_count": 57,
     "metadata": {},
     "output_type": "execute_result"
    }
   ],
   "source": [
    "recs.take(1)"
   ]
  }
 ],
 "metadata": {
  "colab": {
   "provenance": []
  },
  "kernelspec": {
   "display_name": "Python 3 (ipykernel)",
   "language": "python",
   "name": "python3"
  },
  "language_info": {
   "codemirror_mode": {
    "name": "ipython",
    "version": 3
   },
   "file_extension": ".py",
   "mimetype": "text/x-python",
   "name": "python",
   "nbconvert_exporter": "python",
   "pygments_lexer": "ipython3",
   "version": "3.9.13"
  }
 },
 "nbformat": 4,
 "nbformat_minor": 1
}
